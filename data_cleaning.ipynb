{
 "cells": [
  {
   "cell_type": "code",
   "execution_count": 2,
   "id": "be825710-43d7-416c-87e8-7b29f86565df",
   "metadata": {},
   "outputs": [],
   "source": [
    "import pandas as pd\n",
    "import numpy as np\n",
    "import os\n",
    "import re\n",
    "import matplotlib.pyplot as plt\n",
    "import seaborn as sns\n",
    "\n",
    "# To show plots inline in the notebook\n",
    "%matplotlib inline"
   ]
  },
  {
   "cell_type": "code",
   "execution_count": 23,
   "id": "2d402213-9c37-400d-bea9-d78659a00a85",
   "metadata": {},
   "outputs": [
    {
     "data": {
      "text/html": [
       "<div>\n",
       "<style scoped>\n",
       "    .dataframe tbody tr th:only-of-type {\n",
       "        vertical-align: middle;\n",
       "    }\n",
       "\n",
       "    .dataframe tbody tr th {\n",
       "        vertical-align: top;\n",
       "    }\n",
       "\n",
       "    .dataframe thead th {\n",
       "        text-align: right;\n",
       "    }\n",
       "</style>\n",
       "<table border=\"1\" class=\"dataframe\">\n",
       "  <thead>\n",
       "    <tr style=\"text-align: right;\">\n",
       "      <th></th>\n",
       "      <th>campaign_id</th>\n",
       "      <th>campaign_name</th>\n",
       "      <th>start_date</th>\n",
       "      <th>end_date</th>\n",
       "    </tr>\n",
       "  </thead>\n",
       "  <tbody>\n",
       "    <tr>\n",
       "      <th>0</th>\n",
       "      <td>CAMP_DIW_01</td>\n",
       "      <td>Diwali</td>\n",
       "      <td>12-11-2023</td>\n",
       "      <td>18-11-2023</td>\n",
       "    </tr>\n",
       "    <tr>\n",
       "      <th>1</th>\n",
       "      <td>CAMP_SAN_01</td>\n",
       "      <td>Sankranti</td>\n",
       "      <td>10-01-2024</td>\n",
       "      <td>16-01-2024</td>\n",
       "    </tr>\n",
       "  </tbody>\n",
       "</table>\n",
       "</div>"
      ],
      "text/plain": [
       "   campaign_id campaign_name  start_date    end_date\n",
       "0  CAMP_DIW_01        Diwali  12-11-2023  18-11-2023\n",
       "1  CAMP_SAN_01     Sankranti  10-01-2024  16-01-2024"
      ]
     },
     "execution_count": 23,
     "metadata": {},
     "output_type": "execute_result"
    }
   ],
   "source": [
    "file_path = '../Datasets/dim_campaigns.csv'\n",
    "\n",
    "df = pd.read_csv(file_path)\n",
    "df.head()"
   ]
  },
  {
   "cell_type": "code",
   "execution_count": 24,
   "id": "c7fe7990-0029-46a8-b40c-107197ae7be2",
   "metadata": {},
   "outputs": [
    {
     "data": {
      "text/plain": [
       "campaign_id      0\n",
       "campaign_name    0\n",
       "start_date       0\n",
       "end_date         0\n",
       "dtype: int64"
      ]
     },
     "execution_count": 24,
     "metadata": {},
     "output_type": "execute_result"
    }
   ],
   "source": [
    "df.isnull().sum()"
   ]
  },
  {
   "cell_type": "code",
   "execution_count": 25,
   "id": "d94047e5-f90c-46e9-9780-f5e5608ab8b8",
   "metadata": {},
   "outputs": [
    {
     "name": "stdout",
     "output_type": "stream",
     "text": [
      "<class 'pandas.core.frame.DataFrame'>\n",
      "RangeIndex: 2 entries, 0 to 1\n",
      "Data columns (total 4 columns):\n",
      " #   Column         Non-Null Count  Dtype \n",
      "---  ------         --------------  ----- \n",
      " 0   campaign_id    2 non-null      object\n",
      " 1   campaign_name  2 non-null      object\n",
      " 2   start_date     2 non-null      object\n",
      " 3   end_date       2 non-null      object\n",
      "dtypes: object(4)\n",
      "memory usage: 196.0+ bytes\n"
     ]
    }
   ],
   "source": [
    "df.info()"
   ]
  },
  {
   "cell_type": "code",
   "execution_count": 26,
   "id": "40c7e372-2554-43e3-aa50-f774c0dad5df",
   "metadata": {},
   "outputs": [],
   "source": [
    "df.columns = df.columns.str.lower().str.strip().str.replace(' ', '_')"
   ]
  },
  {
   "cell_type": "code",
   "execution_count": 27,
   "id": "a33d33ad-5428-4540-9200-5f51ef22ad85",
   "metadata": {},
   "outputs": [],
   "source": [
    "df.to_csv('../Datasets/Processed Datasets/dim_campaigns.csv', index=False)"
   ]
  },
  {
   "cell_type": "code",
   "execution_count": 28,
   "id": "2db02304-2815-45e7-aaa3-4a1486c79597",
   "metadata": {},
   "outputs": [
    {
     "data": {
      "text/html": [
       "<div>\n",
       "<style scoped>\n",
       "    .dataframe tbody tr th:only-of-type {\n",
       "        vertical-align: middle;\n",
       "    }\n",
       "\n",
       "    .dataframe tbody tr th {\n",
       "        vertical-align: top;\n",
       "    }\n",
       "\n",
       "    .dataframe thead th {\n",
       "        text-align: right;\n",
       "    }\n",
       "</style>\n",
       "<table border=\"1\" class=\"dataframe\">\n",
       "  <thead>\n",
       "    <tr style=\"text-align: right;\">\n",
       "      <th></th>\n",
       "      <th>product_code</th>\n",
       "      <th>product_name</th>\n",
       "      <th>category</th>\n",
       "    </tr>\n",
       "  </thead>\n",
       "  <tbody>\n",
       "    <tr>\n",
       "      <th>0</th>\n",
       "      <td>P01</td>\n",
       "      <td>Atliq_Masoor_Dal (1KG)</td>\n",
       "      <td>Grocery &amp; Staples</td>\n",
       "    </tr>\n",
       "    <tr>\n",
       "      <th>1</th>\n",
       "      <td>P02</td>\n",
       "      <td>Atliq_Sonamasuri_Rice (10KG)</td>\n",
       "      <td>Grocery &amp; Staples</td>\n",
       "    </tr>\n",
       "    <tr>\n",
       "      <th>2</th>\n",
       "      <td>P03</td>\n",
       "      <td>Atliq_Suflower_Oil (1L)</td>\n",
       "      <td>Grocery &amp; Staples</td>\n",
       "    </tr>\n",
       "    <tr>\n",
       "      <th>3</th>\n",
       "      <td>P04</td>\n",
       "      <td>Atliq_Farm_Chakki_Atta (1KG)</td>\n",
       "      <td>Grocery &amp; Staples</td>\n",
       "    </tr>\n",
       "    <tr>\n",
       "      <th>4</th>\n",
       "      <td>P05</td>\n",
       "      <td>Atliq_Scrub_Sponge_For_Dishwash</td>\n",
       "      <td>Home Care</td>\n",
       "    </tr>\n",
       "  </tbody>\n",
       "</table>\n",
       "</div>"
      ],
      "text/plain": [
       "  product_code                     product_name           category\n",
       "0          P01           Atliq_Masoor_Dal (1KG)  Grocery & Staples\n",
       "1          P02     Atliq_Sonamasuri_Rice (10KG)  Grocery & Staples\n",
       "2          P03          Atliq_Suflower_Oil (1L)  Grocery & Staples\n",
       "3          P04     Atliq_Farm_Chakki_Atta (1KG)  Grocery & Staples\n",
       "4          P05  Atliq_Scrub_Sponge_For_Dishwash          Home Care"
      ]
     },
     "execution_count": 28,
     "metadata": {},
     "output_type": "execute_result"
    }
   ],
   "source": [
    "file_path = '../Datasets/dim_products.csv'\n",
    "\n",
    "df = pd.read_csv(file_path)\n",
    "df.head()"
   ]
  },
  {
   "cell_type": "code",
   "execution_count": 29,
   "id": "cd82926f-acb7-45ed-accd-2412ac0550c5",
   "metadata": {},
   "outputs": [
    {
     "data": {
      "text/plain": [
       "product_code    0\n",
       "product_name    0\n",
       "category        0\n",
       "dtype: int64"
      ]
     },
     "execution_count": 29,
     "metadata": {},
     "output_type": "execute_result"
    }
   ],
   "source": [
    "df.isnull().sum()"
   ]
  },
  {
   "cell_type": "code",
   "execution_count": 30,
   "id": "1cf45a8c-c073-45c3-8a61-489f7c193c79",
   "metadata": {},
   "outputs": [
    {
     "name": "stdout",
     "output_type": "stream",
     "text": [
      "<class 'pandas.core.frame.DataFrame'>\n",
      "RangeIndex: 15 entries, 0 to 14\n",
      "Data columns (total 3 columns):\n",
      " #   Column        Non-Null Count  Dtype \n",
      "---  ------        --------------  ----- \n",
      " 0   product_code  15 non-null     object\n",
      " 1   product_name  15 non-null     object\n",
      " 2   category      15 non-null     object\n",
      "dtypes: object(3)\n",
      "memory usage: 492.0+ bytes\n"
     ]
    }
   ],
   "source": [
    "df.info()"
   ]
  },
  {
   "cell_type": "code",
   "execution_count": 31,
   "id": "3c6fd5f9-e917-421a-a652-a8431459836a",
   "metadata": {},
   "outputs": [],
   "source": [
    "df.columns = df.columns.str.lower().str.strip().str.replace(' ', '_')"
   ]
  },
  {
   "cell_type": "code",
   "execution_count": 32,
   "id": "3a8f8780-2582-47a6-a985-852994aea699",
   "metadata": {},
   "outputs": [
    {
     "data": {
      "text/html": [
       "<div>\n",
       "<style scoped>\n",
       "    .dataframe tbody tr th:only-of-type {\n",
       "        vertical-align: middle;\n",
       "    }\n",
       "\n",
       "    .dataframe tbody tr th {\n",
       "        vertical-align: top;\n",
       "    }\n",
       "\n",
       "    .dataframe thead th {\n",
       "        text-align: right;\n",
       "    }\n",
       "</style>\n",
       "<table border=\"1\" class=\"dataframe\">\n",
       "  <thead>\n",
       "    <tr style=\"text-align: right;\">\n",
       "      <th></th>\n",
       "      <th>product_code</th>\n",
       "      <th>product_name</th>\n",
       "      <th>category</th>\n",
       "    </tr>\n",
       "  </thead>\n",
       "  <tbody>\n",
       "    <tr>\n",
       "      <th>0</th>\n",
       "      <td>P01</td>\n",
       "      <td>Atliq_Masoor_Dal (1KG)</td>\n",
       "      <td>Grocery &amp; Staples</td>\n",
       "    </tr>\n",
       "    <tr>\n",
       "      <th>1</th>\n",
       "      <td>P02</td>\n",
       "      <td>Atliq_Sonamasuri_Rice (10KG)</td>\n",
       "      <td>Grocery &amp; Staples</td>\n",
       "    </tr>\n",
       "    <tr>\n",
       "      <th>2</th>\n",
       "      <td>P03</td>\n",
       "      <td>Atliq_Suflower_Oil (1L)</td>\n",
       "      <td>Grocery &amp; Staples</td>\n",
       "    </tr>\n",
       "    <tr>\n",
       "      <th>3</th>\n",
       "      <td>P04</td>\n",
       "      <td>Atliq_Farm_Chakki_Atta (1KG)</td>\n",
       "      <td>Grocery &amp; Staples</td>\n",
       "    </tr>\n",
       "    <tr>\n",
       "      <th>4</th>\n",
       "      <td>P05</td>\n",
       "      <td>Atliq_Scrub_Sponge_For_Dishwash</td>\n",
       "      <td>Home Care</td>\n",
       "    </tr>\n",
       "  </tbody>\n",
       "</table>\n",
       "</div>"
      ],
      "text/plain": [
       "  product_code                     product_name           category\n",
       "0          P01           Atliq_Masoor_Dal (1KG)  Grocery & Staples\n",
       "1          P02     Atliq_Sonamasuri_Rice (10KG)  Grocery & Staples\n",
       "2          P03          Atliq_Suflower_Oil (1L)  Grocery & Staples\n",
       "3          P04     Atliq_Farm_Chakki_Atta (1KG)  Grocery & Staples\n",
       "4          P05  Atliq_Scrub_Sponge_For_Dishwash          Home Care"
      ]
     },
     "execution_count": 32,
     "metadata": {},
     "output_type": "execute_result"
    }
   ],
   "source": [
    "df.head()"
   ]
  },
  {
   "cell_type": "code",
   "execution_count": 33,
   "id": "189842be-cdbb-480c-9c91-43e622de331d",
   "metadata": {},
   "outputs": [],
   "source": [
    "df.to_csv('../Datasets/Processed Datasets/dim_products.csv', index=False)"
   ]
  },
  {
   "cell_type": "code",
   "execution_count": 34,
   "id": "6d083adc-df18-49d3-9bc4-b1cf208e6d7f",
   "metadata": {},
   "outputs": [
    {
     "data": {
      "text/html": [
       "<div>\n",
       "<style scoped>\n",
       "    .dataframe tbody tr th:only-of-type {\n",
       "        vertical-align: middle;\n",
       "    }\n",
       "\n",
       "    .dataframe tbody tr th {\n",
       "        vertical-align: top;\n",
       "    }\n",
       "\n",
       "    .dataframe thead th {\n",
       "        text-align: right;\n",
       "    }\n",
       "</style>\n",
       "<table border=\"1\" class=\"dataframe\">\n",
       "  <thead>\n",
       "    <tr style=\"text-align: right;\">\n",
       "      <th></th>\n",
       "      <th>store_id</th>\n",
       "      <th>city</th>\n",
       "    </tr>\n",
       "  </thead>\n",
       "  <tbody>\n",
       "    <tr>\n",
       "      <th>0</th>\n",
       "      <td>STTRV-0</td>\n",
       "      <td>Trivandrum</td>\n",
       "    </tr>\n",
       "    <tr>\n",
       "      <th>1</th>\n",
       "      <td>STMDU-3</td>\n",
       "      <td>Madurai</td>\n",
       "    </tr>\n",
       "    <tr>\n",
       "      <th>2</th>\n",
       "      <td>STHYD-6</td>\n",
       "      <td>Hyderabad</td>\n",
       "    </tr>\n",
       "    <tr>\n",
       "      <th>3</th>\n",
       "      <td>STVSK-1</td>\n",
       "      <td>Visakhapatnam</td>\n",
       "    </tr>\n",
       "    <tr>\n",
       "      <th>4</th>\n",
       "      <td>STCBE-3</td>\n",
       "      <td>Coimbatore</td>\n",
       "    </tr>\n",
       "  </tbody>\n",
       "</table>\n",
       "</div>"
      ],
      "text/plain": [
       "  store_id           city\n",
       "0  STTRV-0     Trivandrum\n",
       "1  STMDU-3        Madurai\n",
       "2  STHYD-6      Hyderabad\n",
       "3  STVSK-1  Visakhapatnam\n",
       "4  STCBE-3     Coimbatore"
      ]
     },
     "execution_count": 34,
     "metadata": {},
     "output_type": "execute_result"
    }
   ],
   "source": [
    "file_path = '../Datasets/dim_stores.csv'\n",
    "\n",
    "df = pd.read_csv(file_path)\n",
    "df.head()"
   ]
  },
  {
   "cell_type": "code",
   "execution_count": 36,
   "id": "bc36d1c1-0886-48cb-8ebf-a79b7455b02d",
   "metadata": {},
   "outputs": [],
   "source": [
    "df.columns = df.columns.str.lower().str.strip().str.replace(' ', '_')"
   ]
  },
  {
   "cell_type": "code",
   "execution_count": 37,
   "id": "b998ee34-d00e-450d-aa33-b9b35503c247",
   "metadata": {},
   "outputs": [
    {
     "data": {
      "text/html": [
       "<div>\n",
       "<style scoped>\n",
       "    .dataframe tbody tr th:only-of-type {\n",
       "        vertical-align: middle;\n",
       "    }\n",
       "\n",
       "    .dataframe tbody tr th {\n",
       "        vertical-align: top;\n",
       "    }\n",
       "\n",
       "    .dataframe thead th {\n",
       "        text-align: right;\n",
       "    }\n",
       "</style>\n",
       "<table border=\"1\" class=\"dataframe\">\n",
       "  <thead>\n",
       "    <tr style=\"text-align: right;\">\n",
       "      <th></th>\n",
       "      <th>store_id</th>\n",
       "      <th>city</th>\n",
       "    </tr>\n",
       "  </thead>\n",
       "  <tbody>\n",
       "    <tr>\n",
       "      <th>0</th>\n",
       "      <td>STTRV-0</td>\n",
       "      <td>Trivandrum</td>\n",
       "    </tr>\n",
       "    <tr>\n",
       "      <th>1</th>\n",
       "      <td>STMDU-3</td>\n",
       "      <td>Madurai</td>\n",
       "    </tr>\n",
       "    <tr>\n",
       "      <th>2</th>\n",
       "      <td>STHYD-6</td>\n",
       "      <td>Hyderabad</td>\n",
       "    </tr>\n",
       "    <tr>\n",
       "      <th>3</th>\n",
       "      <td>STVSK-1</td>\n",
       "      <td>Visakhapatnam</td>\n",
       "    </tr>\n",
       "    <tr>\n",
       "      <th>4</th>\n",
       "      <td>STCBE-3</td>\n",
       "      <td>Coimbatore</td>\n",
       "    </tr>\n",
       "  </tbody>\n",
       "</table>\n",
       "</div>"
      ],
      "text/plain": [
       "  store_id           city\n",
       "0  STTRV-0     Trivandrum\n",
       "1  STMDU-3        Madurai\n",
       "2  STHYD-6      Hyderabad\n",
       "3  STVSK-1  Visakhapatnam\n",
       "4  STCBE-3     Coimbatore"
      ]
     },
     "execution_count": 37,
     "metadata": {},
     "output_type": "execute_result"
    }
   ],
   "source": [
    "df.head()"
   ]
  },
  {
   "cell_type": "code",
   "execution_count": 39,
   "id": "be054315-bd90-4d26-88d7-bcf412277372",
   "metadata": {},
   "outputs": [
    {
     "name": "stdout",
     "output_type": "stream",
     "text": [
      "<class 'pandas.core.frame.DataFrame'>\n",
      "RangeIndex: 50 entries, 0 to 49\n",
      "Data columns (total 2 columns):\n",
      " #   Column    Non-Null Count  Dtype \n",
      "---  ------    --------------  ----- \n",
      " 0   store_id  50 non-null     object\n",
      " 1   city      50 non-null     object\n",
      "dtypes: object(2)\n",
      "memory usage: 932.0+ bytes\n"
     ]
    },
    {
     "data": {
      "text/plain": [
       "Index(['store_id', 'city'], dtype='object')"
      ]
     },
     "execution_count": 39,
     "metadata": {},
     "output_type": "execute_result"
    }
   ],
   "source": [
    "df.info()\n",
    "df.columns"
   ]
  },
  {
   "cell_type": "code",
   "execution_count": 40,
   "id": "201caa9e-edf5-46c6-b3b2-fd9a873dd777",
   "metadata": {},
   "outputs": [],
   "source": [
    "df.to_csv('../Datasets/Processed Datasets/dim_stores.csv', index=False)"
   ]
  },
  {
   "cell_type": "code",
   "execution_count": 41,
   "id": "dac82e9d-3c11-456b-8b02-efd78128170c",
   "metadata": {},
   "outputs": [
    {
     "data": {
      "text/html": [
       "<div>\n",
       "<style scoped>\n",
       "    .dataframe tbody tr th:only-of-type {\n",
       "        vertical-align: middle;\n",
       "    }\n",
       "\n",
       "    .dataframe tbody tr th {\n",
       "        vertical-align: top;\n",
       "    }\n",
       "\n",
       "    .dataframe thead th {\n",
       "        text-align: right;\n",
       "    }\n",
       "</style>\n",
       "<table border=\"1\" class=\"dataframe\">\n",
       "  <thead>\n",
       "    <tr style=\"text-align: right;\">\n",
       "      <th></th>\n",
       "      <th>event_id</th>\n",
       "      <th>store_id</th>\n",
       "      <th>campaign_id</th>\n",
       "      <th>product_code</th>\n",
       "      <th>base_price</th>\n",
       "      <th>promo_type</th>\n",
       "      <th>quantity_sold(before_promo)</th>\n",
       "      <th>quantity_sold(after_promo)</th>\n",
       "    </tr>\n",
       "  </thead>\n",
       "  <tbody>\n",
       "    <tr>\n",
       "      <th>0</th>\n",
       "      <td>7f650b</td>\n",
       "      <td>STCBE-2</td>\n",
       "      <td>CAMP_SAN_01</td>\n",
       "      <td>P11</td>\n",
       "      <td>190</td>\n",
       "      <td>50% OFF</td>\n",
       "      <td>34</td>\n",
       "      <td>52</td>\n",
       "    </tr>\n",
       "    <tr>\n",
       "      <th>1</th>\n",
       "      <td>a21f91</td>\n",
       "      <td>STBLR-8</td>\n",
       "      <td>CAMP_DIW_01</td>\n",
       "      <td>P03</td>\n",
       "      <td>156</td>\n",
       "      <td>25% OFF</td>\n",
       "      <td>393</td>\n",
       "      <td>322</td>\n",
       "    </tr>\n",
       "    <tr>\n",
       "      <th>2</th>\n",
       "      <td>78bc80</td>\n",
       "      <td>STVJD-0</td>\n",
       "      <td>CAMP_SAN_01</td>\n",
       "      <td>P07</td>\n",
       "      <td>300</td>\n",
       "      <td>BOGOF</td>\n",
       "      <td>22</td>\n",
       "      <td>85</td>\n",
       "    </tr>\n",
       "    <tr>\n",
       "      <th>3</th>\n",
       "      <td>a1503f</td>\n",
       "      <td>STCBE-1</td>\n",
       "      <td>CAMP_DIW_01</td>\n",
       "      <td>P15</td>\n",
       "      <td>3000</td>\n",
       "      <td>500 Cashback</td>\n",
       "      <td>329</td>\n",
       "      <td>1000</td>\n",
       "    </tr>\n",
       "    <tr>\n",
       "      <th>4</th>\n",
       "      <td>1091cf</td>\n",
       "      <td>STBLR-6</td>\n",
       "      <td>CAMP_DIW_01</td>\n",
       "      <td>P05</td>\n",
       "      <td>55</td>\n",
       "      <td>25% OFF</td>\n",
       "      <td>108</td>\n",
       "      <td>93</td>\n",
       "    </tr>\n",
       "  </tbody>\n",
       "</table>\n",
       "</div>"
      ],
      "text/plain": [
       "  event_id store_id  campaign_id product_code  base_price    promo_type  \\\n",
       "0   7f650b  STCBE-2  CAMP_SAN_01          P11         190       50% OFF   \n",
       "1   a21f91  STBLR-8  CAMP_DIW_01          P03         156       25% OFF   \n",
       "2   78bc80  STVJD-0  CAMP_SAN_01          P07         300         BOGOF   \n",
       "3   a1503f  STCBE-1  CAMP_DIW_01          P15        3000  500 Cashback   \n",
       "4   1091cf  STBLR-6  CAMP_DIW_01          P05          55       25% OFF   \n",
       "\n",
       "   quantity_sold(before_promo)  quantity_sold(after_promo)  \n",
       "0                           34                          52  \n",
       "1                          393                         322  \n",
       "2                           22                          85  \n",
       "3                          329                        1000  \n",
       "4                          108                          93  "
      ]
     },
     "execution_count": 41,
     "metadata": {},
     "output_type": "execute_result"
    }
   ],
   "source": [
    "file_path = '../Datasets/fact_events.csv'\n",
    "\n",
    "df = pd.read_csv(file_path)\n",
    "df.head()"
   ]
  },
  {
   "cell_type": "code",
   "execution_count": 42,
   "id": "f15ebf55-9e26-48fb-8f6a-3fa9c4f19a9e",
   "metadata": {},
   "outputs": [],
   "source": [
    "df.columns = df.columns.str.lower().str.strip().str.replace(' ', '_')"
   ]
  },
  {
   "cell_type": "code",
   "execution_count": 43,
   "id": "f6d55012-26d8-47d6-b68b-f0ee43c99c6d",
   "metadata": {},
   "outputs": [
    {
     "name": "stdout",
     "output_type": "stream",
     "text": [
      "<class 'pandas.core.frame.DataFrame'>\n",
      "RangeIndex: 1500 entries, 0 to 1499\n",
      "Data columns (total 8 columns):\n",
      " #   Column                       Non-Null Count  Dtype \n",
      "---  ------                       --------------  ----- \n",
      " 0   event_id                     1500 non-null   object\n",
      " 1   store_id                     1500 non-null   object\n",
      " 2   campaign_id                  1500 non-null   object\n",
      " 3   product_code                 1500 non-null   object\n",
      " 4   base_price                   1500 non-null   int64 \n",
      " 5   promo_type                   1500 non-null   object\n",
      " 6   quantity_sold(before_promo)  1500 non-null   int64 \n",
      " 7   quantity_sold(after_promo)   1500 non-null   int64 \n",
      "dtypes: int64(3), object(5)\n",
      "memory usage: 93.9+ KB\n"
     ]
    },
    {
     "data": {
      "text/plain": [
       "Index(['event_id', 'store_id', 'campaign_id', 'product_code', 'base_price',\n",
       "       'promo_type', 'quantity_sold(before_promo)',\n",
       "       'quantity_sold(after_promo)'],\n",
       "      dtype='object')"
      ]
     },
     "execution_count": 43,
     "metadata": {},
     "output_type": "execute_result"
    }
   ],
   "source": [
    "df.info()\n",
    "df.columns"
   ]
  },
  {
   "cell_type": "code",
   "execution_count": 44,
   "id": "2cffd358-cbb9-4505-b51e-c594a59dd3d0",
   "metadata": {},
   "outputs": [],
   "source": [
    "df['quantity_lift'] = df['quantity_sold(after_promo)'] - df['quantity_sold(before_promo)']"
   ]
  },
  {
   "cell_type": "code",
   "execution_count": 50,
   "id": "098c386f-7fe0-4c46-8162-32f59c3a1825",
   "metadata": {},
   "outputs": [],
   "source": [
    "df['quantity_lift_pct'] = ((df['quantity_lift']/df['quantity_sold(before_promo)'])*100).round(2)"
   ]
  },
  {
   "cell_type": "code",
   "execution_count": 52,
   "id": "16565326-f0f3-4421-8fa1-595bda3ee44b",
   "metadata": {},
   "outputs": [],
   "source": [
    "df['revenue_before_promo'] = df['base_price'] * df['quantity_sold(before_promo)']"
   ]
  },
  {
   "cell_type": "code",
   "execution_count": 54,
   "id": "1939b9f9-4141-47f7-87c7-8a7e32d881ef",
   "metadata": {},
   "outputs": [
    {
     "data": {
      "text/plain": [
       "array(['50% OFF', '25% OFF', 'BOGOF', '500 Cashback', '33% OFF'],\n",
       "      dtype=object)"
      ]
     },
     "execution_count": 54,
     "metadata": {},
     "output_type": "execute_result"
    }
   ],
   "source": [
    "df['promo_type'].unique()"
   ]
  },
  {
   "cell_type": "code",
   "execution_count": 63,
   "id": "5d30f43e-e514-4b70-a29d-f147514118f0",
   "metadata": {},
   "outputs": [],
   "source": [
    "def get_discounted_price(row):\n",
    "    if row['promo_type'] == '50% OFF':\n",
    "        return row['base_price']*0.5\n",
    "    elif row['promo_type'] == '25% OFF':\n",
    "        return row['base_price']*0.75\n",
    "    elif row['promo_type'] == '33% OFF':\n",
    "        return row['base_price']*0.67\n",
    "    elif row['promo_type'] == 'BOGOF':\n",
    "        return row['base_price']/2\n",
    "    elif row['promo_type'] == '500 Cashback':\n",
    "        return row['base_price']-500\n",
    "    else:\n",
    "        return row['base_price']"
   ]
  },
  {
   "cell_type": "code",
   "execution_count": 64,
   "id": "6ba19b88-4e52-45e7-a87f-10c96b997614",
   "metadata": {},
   "outputs": [],
   "source": [
    "df['discounted_price'] = df.apply(get_discounted_price, axis=1)"
   ]
  },
  {
   "cell_type": "code",
   "execution_count": 66,
   "id": "0f25d2f6-b4d5-4948-a4b4-22ffd22ba811",
   "metadata": {},
   "outputs": [],
   "source": [
    "df['revenue_after_promo'] = df['discounted_price']*df['quantity_sold(after_promo)']"
   ]
  },
  {
   "cell_type": "code",
   "execution_count": 68,
   "id": "2aaafcbf-1d08-4b0e-a39a-295ca4db6f6b",
   "metadata": {},
   "outputs": [],
   "source": [
    "df['promo_effectiveness'] = df['revenue_after_promo'] - df['revenue_before_promo']"
   ]
  },
  {
   "cell_type": "code",
   "execution_count": 72,
   "id": "24e8c29a-aad2-4820-a6b8-8f00343cd75d",
   "metadata": {},
   "outputs": [],
   "source": [
    "df['is_successful_promo'] = df['promo_effectiveness'].apply(lambda x: 'Successful' if x > 0 else 'Unsuccessful')"
   ]
  },
  {
   "cell_type": "code",
   "execution_count": 74,
   "id": "fc88f408-4936-492e-8209-b4d2ad0f511a",
   "metadata": {},
   "outputs": [],
   "source": [
    "df['event_id'] = df['event_id'].str.strip()"
   ]
  },
  {
   "cell_type": "code",
   "execution_count": 75,
   "id": "527ed6e1-e34e-4d37-9138-657937c4990e",
   "metadata": {},
   "outputs": [
    {
     "data": {
      "text/html": [
       "<div>\n",
       "<style scoped>\n",
       "    .dataframe tbody tr th:only-of-type {\n",
       "        vertical-align: middle;\n",
       "    }\n",
       "\n",
       "    .dataframe tbody tr th {\n",
       "        vertical-align: top;\n",
       "    }\n",
       "\n",
       "    .dataframe thead th {\n",
       "        text-align: right;\n",
       "    }\n",
       "</style>\n",
       "<table border=\"1\" class=\"dataframe\">\n",
       "  <thead>\n",
       "    <tr style=\"text-align: right;\">\n",
       "      <th></th>\n",
       "      <th>event_id</th>\n",
       "      <th>store_id</th>\n",
       "      <th>campaign_id</th>\n",
       "      <th>product_code</th>\n",
       "      <th>base_price</th>\n",
       "      <th>promo_type</th>\n",
       "      <th>quantity_sold(before_promo)</th>\n",
       "      <th>quantity_sold(after_promo)</th>\n",
       "      <th>quantity_lift</th>\n",
       "      <th>quantity_lift_pct</th>\n",
       "      <th>revenue_before_promo</th>\n",
       "      <th>discounted_price</th>\n",
       "      <th>revenue_after_promo</th>\n",
       "      <th>promo_effectiveness</th>\n",
       "      <th>is_successful_promo</th>\n",
       "    </tr>\n",
       "  </thead>\n",
       "  <tbody>\n",
       "    <tr>\n",
       "      <th>0</th>\n",
       "      <td>7f650b</td>\n",
       "      <td>STCBE-2</td>\n",
       "      <td>CAMP_SAN_01</td>\n",
       "      <td>P11</td>\n",
       "      <td>190</td>\n",
       "      <td>50% OFF</td>\n",
       "      <td>34</td>\n",
       "      <td>52</td>\n",
       "      <td>18</td>\n",
       "      <td>52.94</td>\n",
       "      <td>6460</td>\n",
       "      <td>95.00</td>\n",
       "      <td>4940.00</td>\n",
       "      <td>-1520.00</td>\n",
       "      <td>Unsuccessful</td>\n",
       "    </tr>\n",
       "    <tr>\n",
       "      <th>1</th>\n",
       "      <td>a21f91</td>\n",
       "      <td>STBLR-8</td>\n",
       "      <td>CAMP_DIW_01</td>\n",
       "      <td>P03</td>\n",
       "      <td>156</td>\n",
       "      <td>25% OFF</td>\n",
       "      <td>393</td>\n",
       "      <td>322</td>\n",
       "      <td>-71</td>\n",
       "      <td>-18.07</td>\n",
       "      <td>61308</td>\n",
       "      <td>117.00</td>\n",
       "      <td>37674.00</td>\n",
       "      <td>-23634.00</td>\n",
       "      <td>Unsuccessful</td>\n",
       "    </tr>\n",
       "    <tr>\n",
       "      <th>2</th>\n",
       "      <td>78bc80</td>\n",
       "      <td>STVJD-0</td>\n",
       "      <td>CAMP_SAN_01</td>\n",
       "      <td>P07</td>\n",
       "      <td>300</td>\n",
       "      <td>BOGOF</td>\n",
       "      <td>22</td>\n",
       "      <td>85</td>\n",
       "      <td>63</td>\n",
       "      <td>286.36</td>\n",
       "      <td>6600</td>\n",
       "      <td>150.00</td>\n",
       "      <td>12750.00</td>\n",
       "      <td>6150.00</td>\n",
       "      <td>Successful</td>\n",
       "    </tr>\n",
       "    <tr>\n",
       "      <th>3</th>\n",
       "      <td>a1503f</td>\n",
       "      <td>STCBE-1</td>\n",
       "      <td>CAMP_DIW_01</td>\n",
       "      <td>P15</td>\n",
       "      <td>3000</td>\n",
       "      <td>500 Cashback</td>\n",
       "      <td>329</td>\n",
       "      <td>1000</td>\n",
       "      <td>671</td>\n",
       "      <td>203.95</td>\n",
       "      <td>987000</td>\n",
       "      <td>2500.00</td>\n",
       "      <td>2500000.00</td>\n",
       "      <td>1513000.00</td>\n",
       "      <td>Successful</td>\n",
       "    </tr>\n",
       "    <tr>\n",
       "      <th>4</th>\n",
       "      <td>1091cf</td>\n",
       "      <td>STBLR-6</td>\n",
       "      <td>CAMP_DIW_01</td>\n",
       "      <td>P05</td>\n",
       "      <td>55</td>\n",
       "      <td>25% OFF</td>\n",
       "      <td>108</td>\n",
       "      <td>93</td>\n",
       "      <td>-15</td>\n",
       "      <td>-13.89</td>\n",
       "      <td>5940</td>\n",
       "      <td>41.25</td>\n",
       "      <td>3836.25</td>\n",
       "      <td>-2103.75</td>\n",
       "      <td>Unsuccessful</td>\n",
       "    </tr>\n",
       "  </tbody>\n",
       "</table>\n",
       "</div>"
      ],
      "text/plain": [
       "  event_id store_id  campaign_id product_code  base_price    promo_type  \\\n",
       "0   7f650b  STCBE-2  CAMP_SAN_01          P11         190       50% OFF   \n",
       "1   a21f91  STBLR-8  CAMP_DIW_01          P03         156       25% OFF   \n",
       "2   78bc80  STVJD-0  CAMP_SAN_01          P07         300         BOGOF   \n",
       "3   a1503f  STCBE-1  CAMP_DIW_01          P15        3000  500 Cashback   \n",
       "4   1091cf  STBLR-6  CAMP_DIW_01          P05          55       25% OFF   \n",
       "\n",
       "   quantity_sold(before_promo)  quantity_sold(after_promo)  quantity_lift  \\\n",
       "0                           34                          52             18   \n",
       "1                          393                         322            -71   \n",
       "2                           22                          85             63   \n",
       "3                          329                        1000            671   \n",
       "4                          108                          93            -15   \n",
       "\n",
       "   quantity_lift_pct  revenue_before_promo  discounted_price  \\\n",
       "0              52.94                  6460             95.00   \n",
       "1             -18.07                 61308            117.00   \n",
       "2             286.36                  6600            150.00   \n",
       "3             203.95                987000           2500.00   \n",
       "4             -13.89                  5940             41.25   \n",
       "\n",
       "   revenue_after_promo  promo_effectiveness is_successful_promo  \n",
       "0              4940.00             -1520.00        Unsuccessful  \n",
       "1             37674.00            -23634.00        Unsuccessful  \n",
       "2             12750.00              6150.00          Successful  \n",
       "3           2500000.00           1513000.00          Successful  \n",
       "4              3836.25             -2103.75        Unsuccessful  "
      ]
     },
     "execution_count": 75,
     "metadata": {},
     "output_type": "execute_result"
    }
   ],
   "source": [
    "df.head()"
   ]
  },
  {
   "cell_type": "code",
   "execution_count": 81,
   "id": "f644670c-e63f-4df8-925c-81aa64ea946d",
   "metadata": {},
   "outputs": [],
   "source": [
    "df.to_csv('../Datasets/Processed Datasets/fact_events.csv', index=False)"
   ]
  }
 ],
 "metadata": {
  "kernelspec": {
   "display_name": "Python 3 (ipykernel)",
   "language": "python",
   "name": "python3"
  },
  "language_info": {
   "codemirror_mode": {
    "name": "ipython",
    "version": 3
   },
   "file_extension": ".py",
   "mimetype": "text/x-python",
   "name": "python",
   "nbconvert_exporter": "python",
   "pygments_lexer": "ipython3",
   "version": "3.13.5"
  }
 },
 "nbformat": 4,
 "nbformat_minor": 5
}
